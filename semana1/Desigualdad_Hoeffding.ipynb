{
  "nbformat": 4,
  "nbformat_minor": 0,
  "metadata": {
    "colab": {
      "name": "semana1.2_Teoria_Estadistica_Desigualdad_Hoeffding.ipynb",
      "provenance": [],
      "collapsed_sections": []
    },
    "kernelspec": {
      "name": "python3",
      "display_name": "Python 3"
    },
    "language_info": {
      "name": "python"
    }
  },
  "cells": [
    {
      "cell_type": "markdown",
      "source": [
        "[![Open In Colab](https://colab.research.google.com/assets/colab-badge.svg)](https://colab.research.google.com/github/MaxMitre/Teoria_Estadistica/blob/main/semana1/MDesigualdad_Hoeffding.ipynb)"
      ],
      "metadata": {
        "id": "dUksQ39d6Ps0"
      }
    },
    {
      "cell_type": "markdown",
      "source": [
        "# Desigualdades importantes (y útiles) en probabilidad"
      ],
      "metadata": {
        "id": "15L9Ic6hCfd_"
      }
    },
    {
      "cell_type": "markdown",
      "source": [
        "- Markov\n",
        "- Chebyshev\n",
        "- Hoeffding"
      ],
      "metadata": {
        "id": "PI9NE5e-hjjQ"
      }
    },
    {
      "cell_type": "markdown",
      "source": [
        "# Markov\n",
        "Si $X$ v.a. no-negativa y $t>0$:\n",
        "\n",
        "$$ \\mathbb{P}(X \\geqslant t) \\leqslant \\dfrac{\\mathbb{E}[X]}{t} $$"
      ],
      "metadata": {
        "id": "tRuke5CSkHZh"
      }
    },
    {
      "cell_type": "markdown",
      "source": [
        "# Chebyshev\n",
        "\n",
        "Si $X$ con valor esperado finito y $\\sigma^{2} > 0$, para $t>0$:\n",
        "\n",
        "$$ \\mathbb{P}(|X-\\mathbb{E}[X]| \\geqslant t) \\leqslant \\dfrac{\\mathbb{E}[(X-\\mathbb{E}[X])^{2}]}{t^{2}} $$"
      ],
      "metadata": {
        "id": "pMecExFrjnFQ"
      }
    },
    {
      "cell_type": "markdown",
      "source": [
        "# Hoeffding\n",
        "\n",
        "Si $X_1, X_2, ..., X_n$ variables aleatorias independientes t.q. $a_i \\leqslant X_i \\leqslant b_i$ casi seguramente, entonces:\n",
        "\n",
        "$$ \\mathbb{P}(|S_n - \\mathbb{E}[S_n] | \\geqslant t) \\leqslant 2 exp\\left(-\\dfrac{2t^2}{\\sum_{i=1}^{n}(b_i - a_i)^2}\\right) $$\n",
        "\n",
        "Versión para promedios:\n",
        "\n",
        "$$ \\mathbb{P}(|\\bar{X} - \\mathbb{E}[\\bar{X}] | \\geqslant t) \\leqslant 2 exp\\left(-\\dfrac{2t^2n^2}{\\sum_{i=1}^{n}(b_i - a_i)^2}\\right) $$\n",
        "donde $\\bar{X} = \\dfrac{1}{n}\\sum_{i=1}^{n} X_i$"
      ],
      "metadata": {
        "id": "HWGpHwyzoUOU"
      }
    },
    {
      "cell_type": "markdown",
      "source": [
        "Comparemos la 3 desigualdades con un pequeño ejemplo:\n",
        "\n",
        "# Sea $X$ v.a. Binomial, n=100 y $p=0.8$ \n",
        "\n",
        "Para el primer ejemplo veremos los valores que toman las desigualdades al tomar una sola variable."
      ],
      "metadata": {
        "id": "ZBFOjMH32XjC"
      }
    },
    {
      "cell_type": "code",
      "source": [
        "import numpy as np\n",
        "import random \n",
        "import matplotlib.pyplot as plt"
      ],
      "metadata": {
        "id": "jfabRKhkCbdD"
      },
      "execution_count": null,
      "outputs": []
    },
    {
      "cell_type": "code",
      "source": [
        "# Parámetros de la Binomial(n,p)\n",
        "n = 100\n",
        "p = 0.6"
      ],
      "metadata": {
        "id": "rZ6Z1jV1DaGR"
      },
      "execution_count": null,
      "outputs": []
    },
    {
      "cell_type": "code",
      "source": [
        "# Desigualdad de Markov\n",
        "t = 80\n",
        "\n",
        "markov = n*p/t\n",
        "markov"
      ],
      "metadata": {
        "id": "tgizg15chdBL"
      },
      "execution_count": null,
      "outputs": []
    },
    {
      "cell_type": "code",
      "source": [
        "las_t = list(range(1,101))\n",
        "las_markov = [n*p/a for a in las_t]\n",
        "\n",
        "plt.plot(las_t, las_markov)\n",
        "plt.title('Markov variando \"t\"')"
      ],
      "metadata": {
        "id": "R5bpssrrCag6"
      },
      "execution_count": null,
      "outputs": []
    },
    {
      "cell_type": "code",
      "source": [
        "# Chebyshev\n",
        "las_t = list(range(1,101))\n",
        "las_chebyshev = [n*p*(1-p)/(t*t) for t in las_t]\n",
        "\n",
        "plt.plot(las_t, las_chebyshev)\n",
        "plt.title('Chebyshev variando \"t\"')"
      ],
      "metadata": {
        "id": "PlkSHuajhc_J"
      },
      "execution_count": null,
      "outputs": []
    },
    {
      "cell_type": "markdown",
      "source": [
        "¿Son comparables los valores obtenidos con las desigualdades anteriores? ¿Porqué?"
      ],
      "metadata": {
        "id": "zkzLCpw6D4Bg"
      }
    },
    {
      "cell_type": "code",
      "source": [
        "# Desigualdad de Hoeffding\n",
        "las_t = list(range(1,101))\n",
        "las_hoeffding = [2*np.exp(-2*t*t/(100)) for t in las_t]\n",
        "\n",
        "plt.plot(las_t, las_hoeffding)\n",
        "plt.title('Hoeffding variando \"t\"')"
      ],
      "metadata": {
        "id": "YQme_3Auhc9B"
      },
      "execution_count": null,
      "outputs": []
    },
    {
      "cell_type": "markdown",
      "source": [
        "Comparativo para varios valores de $t$"
      ],
      "metadata": {
        "id": "GObv4YdHciVL"
      }
    },
    {
      "cell_type": "code",
      "source": [
        "las_t = list(range(2,11))\n",
        "\n",
        "las_chebyshev = [n*p*(1-p)/(t*t) for t in las_t]\n",
        "las_hoeffding = [2*np.exp(-2*t*t/(100)) for t in las_t]\n",
        "\n",
        "plt.plot(las_t, las_hoeffding, label='hoeffding')\n",
        "plt.plot(las_t, las_chebyshev, label='chebyshev')\n",
        "plt.title('Hoeffding vs Chebyshev')\n",
        "plt.legend()"
      ],
      "metadata": {
        "id": "LvWbP8nBhc6G"
      },
      "execution_count": null,
      "outputs": []
    },
    {
      "cell_type": "markdown",
      "source": [
        "# ¿Que poder tiene todo esto?"
      ],
      "metadata": {
        "id": "kvk7WAWiclbT"
      }
    },
    {
      "cell_type": "markdown",
      "source": [
        "Problema: "
      ],
      "metadata": {
        "id": "zAl2XB7mcpyP"
      }
    },
    {
      "cell_type": "markdown",
      "source": [
        "Uilizaremos el complemento de la desigualdad mencionada, si se cumple la Desigualdad de Hoeffding:\n",
        "\n",
        "$$ \\mathbb{P}(|\\bar{X} - \\mathbb{E}[\\bar{X}] | \\geqslant t) \\leqslant 2 e^{-2t^2n} $$\n",
        "\n",
        " Entonces también se cumple:\n",
        "\n",
        "$$ \\mathbb{P}(|\\bar{X} - \\mathbb{E}[\\bar{X}] | \\leqslant t) \\geqslant 1- 2 e^{-2t^2n} $$"
      ],
      "metadata": {
        "id": "XZs1ZM1NfB5m"
      }
    },
    {
      "cell_type": "markdown",
      "source": [
        "Entonces, dado un valor de $t$ muy pequeño, queremos ver la cantidad de muestras necesarias para que el promedio de nuestra muestra se parezca al valor esperado de la muestra.\n",
        "\n",
        "Recordemos que por Ley de Grandes Números, el promedio de muestras se parece al valor esperado real de la variable aleatoria."
      ],
      "metadata": {
        "id": "lVVu0GZVxwk4"
      }
    },
    {
      "cell_type": "markdown",
      "source": [
        "Usemos que:\n",
        "\n",
        "$$ 1 - 2 e^{-2t^2n} \\geqslant 1 - \\epsilon  ⇔ ϵ \\geqslant 2 e^{-2t^2n} $$\n",
        "\n",
        "lo que lleva a:\n",
        "\n",
        "$$ n \\geqslant \\dfrac{ln(2 / \\epsilon)}{2t^2} $$"
      ],
      "metadata": {
        "id": "NTA0ona7yzhn"
      }
    },
    {
      "cell_type": "markdown",
      "source": [
        "Por lo que si queremos una precisión del 1% ($ \\epsilon = 0.01$) en la probabilidad y de 2% en la diferencia de promedio y valor esperado de promedio ($t = 0.02$), necesitamos $6623$ muestras aproximadamente."
      ],
      "metadata": {
        "id": "pHC2q01722md"
      }
    },
    {
      "cell_type": "code",
      "source": [
        "# Semilla para reproductibilidad si no la ponen , funcionará bien pero con otras simulaciones)\n",
        "np.random.seed(0)\n",
        "random.seed(0)\n",
        "# Creación de muestra con 10 millones de entradas, 3 millones de unos (pelotas blancas) y 7 millones de ceros (pelotas negras)\n",
        "\n",
        "total = 7000000 * [0] + 3000000 * [1]\n",
        "random.shuffle(total)"
      ],
      "metadata": {
        "id": "Llh32_HXhc3y"
      },
      "execution_count": null,
      "outputs": []
    },
    {
      "cell_type": "code",
      "source": [
        "# Parámetros a utilizar.\n",
        "t = 0.02\n",
        "eps = 0.01\n",
        "hoeffding_amount = int(np.ceil(np.log(2 / eps) / (2 * t ** 2)))\n",
        "print(f'Cantidad de muestras a tomar: {hoeffding_amount}')"
      ],
      "metadata": {
        "id": "Fo_pQpejhc1v"
      },
      "execution_count": null,
      "outputs": []
    },
    {
      "cell_type": "code",
      "source": [
        "subsample = np.random.choice(total, size=hoeffding_amount, replace=True)\n",
        "print(subsample.mean())\n",
        "# Result: 0.30590366903216065"
      ],
      "metadata": {
        "id": "DQplL1oZhczT"
      },
      "execution_count": null,
      "outputs": []
    }
  ]
}