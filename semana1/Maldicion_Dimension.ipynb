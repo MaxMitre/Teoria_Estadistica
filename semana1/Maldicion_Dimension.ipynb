{
  "nbformat": 4,
  "nbformat_minor": 0,
  "metadata": {
    "colab": {
      "name": "semana1.1_Teoria_Estadistica_Maldicion_Dimension.ipynb",
      "provenance": [],
      "collapsed_sections": []
    },
    "kernelspec": {
      "name": "python3",
      "display_name": "Python 3"
    },
    "language_info": {
      "name": "python"
    }
  },
  "cells": [
    {
      "cell_type": "markdown",
      "source": [
        "[![Open In Colab](https://colab.research.google.com/assets/colab-badge.svg)](https://colab.research.google.com/github/MaxMitre/Teoria_Estadistica/blob/main/semana1/Maldicion_Dimension.ipynb)"
      ],
      "metadata": {
        "id": "9dtyBH6SpvUx"
      }
    },
    {
      "cell_type": "markdown",
      "source": [
        "# Maldición de la dimensión"
      ],
      "metadata": {
        "id": "517Y4nxPb-jQ"
      }
    },
    {
      "cell_type": "markdown",
      "source": [
        "Este término fue usado por primera vez por Richard Bellman en la introducción de su libro \"Dynamic Programming\" en 1957:\n",
        "\n",
        "\n",
        "*Todos los problemas que se deben a la gran dimensión deben ser incluidos bajo el encabeazdo \"Maldición de la Dimensión\". Como esto es una maldición, ..., no hay necesidad de sentirse desanimado sobre obtener resultados significativos a pesar de ello.*\n",
        "\n",
        "Hablaba de este término para referirse a las dificultades de encontrar un óptimo, en un espacio de alta dimensión, de modo exhaustivo."
      ],
      "metadata": {
        "id": "e_RWQnrRcEt1"
      }
    },
    {
      "cell_type": "markdown",
      "source": [
        "# Dependencias"
      ],
      "metadata": {
        "id": "80T3ah00cCZk"
      }
    },
    {
      "cell_type": "code",
      "execution_count": null,
      "metadata": {
        "id": "MYNSVAsrWvt-"
      },
      "outputs": [],
      "source": [
        "import numpy as np\n",
        "import math\n",
        "\n",
        "import matplotlib.pyplot as plt"
      ]
    },
    {
      "cell_type": "code",
      "source": [
        "np.random.seed(1)"
      ],
      "metadata": {
        "id": "wPyttl5kW1fb"
      },
      "execution_count": null,
      "outputs": []
    },
    {
      "cell_type": "markdown",
      "source": [
        "# Problemas"
      ],
      "metadata": {
        "id": "qdWTywbJfOV7"
      }
    },
    {
      "cell_type": "markdown",
      "source": [
        "## Clasificación\n",
        "\n",
        "<center> <img src='https://github.com/MaxMitre/Teoria_Estadistica/blob/main/semana1/img/vecinos.jpg?raw=true' width=500> </center>\n",
        "\n",
        "Para clasificar un elemento podemos utilizar a sus vecinos como referencia para algún clasificador."
      ],
      "metadata": {
        "id": "sFEy1M72cB2N"
      }
    },
    {
      "cell_type": "markdown",
      "source": [
        "## Regresión\n",
        "\n",
        "<center> <img src='https://github.com/MaxMitre/Teoria_Estadistica/blob/main/semana1/img/regresion.jpg?raw=true' width=600> </center>\n",
        "\n",
        "Para predecir el valor de un punto podemos ver el valor de sus vecinos y utilizar dicha información como apoyo."
      ],
      "metadata": {
        "id": "InEkKmf9cDad"
      }
    },
    {
      "cell_type": "markdown",
      "source": [
        "Los procesos arriba mencionados tiene sentido en dimensiones pequeñas.\n",
        "\n",
        "- ¿Que dimensión tienen ambos casos mencionados arriba?"
      ],
      "metadata": {
        "id": "7-zXUHAlfoLK"
      }
    },
    {
      "cell_type": "markdown",
      "source": [
        "# Espacios de alta dimensión"
      ],
      "metadata": {
        "id": "ByKU2sH_iHiV"
      }
    },
    {
      "cell_type": "markdown",
      "source": [
        "Si los datos viven en $[0,1]^p$, para tomar un vecindario que represente un porcentaje $s$ del volumen del hipercubo, necesitamos que el lado de dicha vecindad mida $s^{1/p}$\n",
        "\n",
        "- $s = 0.1$, $p=10$, $s^{1/p} = 0.8$ \n",
        "- $s = 0.01$, $p=10$, $s^{1/p} = 0.63$"
      ],
      "metadata": {
        "id": "49homgUjiK-Q"
      }
    },
    {
      "cell_type": "code",
      "source": [
        "# Distintas dimensiones a comparar\n",
        "p = [1,2,3,10]\n",
        "\n",
        "vol_fractions = np.linspace(0,1,101)\n",
        "\n",
        "dist_p1 = vol_fractions**(1/p[0])\n",
        "dist_p2 = vol_fractions**(1/p[1])\n",
        "dist_p3 = vol_fractions**(1/p[2])\n",
        "dist_p10 = vol_fractions**(1/p[3])"
      ],
      "metadata": {
        "id": "FFGp9rp7fwgD"
      },
      "execution_count": null,
      "outputs": []
    },
    {
      "cell_type": "code",
      "source": [
        "plt.figure(figsize=(10,10))\n",
        "\n",
        "plt.plot(vol_fractions, dist_p1, label='p=1')\n",
        "plt.plot(vol_fractions, dist_p2, label='p=2')\n",
        "plt.plot(vol_fractions, dist_p3, label='p=3')\n",
        "plt.plot(vol_fractions, dist_p10, label='p=10')\n",
        "\n",
        "plt.ylabel('Lado del hipercubito')\n",
        "plt.xlabel('fracción del volumen')\n",
        "\n",
        "plt.legend()"
      ],
      "metadata": {
        "colab": {
          "base_uri": "https://localhost:8080/",
          "height": 623
        },
        "id": "3uCnRzFukCax",
        "outputId": "379a06f4-b3fb-4f12-f196-0658d803adda"
      },
      "execution_count": null,
      "outputs": [
        {
          "output_type": "execute_result",
          "data": {
            "text/plain": [
              "<matplotlib.legend.Legend at 0x7f497be3a5d0>"
            ]
          },
          "metadata": {},
          "execution_count": 4
        },
        {
          "output_type": "display_data",
          "data": {
            "text/plain": [
              "<Figure size 720x720 with 1 Axes>"
            ],
            "image/png": "[encoded data removed]"
          },
          "metadata": {
            "needs_background": "light"
          }
        }
      ]
    },
    {
      "cell_type": "markdown",
      "source": [
        "¿Que interpretación tiene la gráfica anterior?\n",
        "- Comenten"
      ],
      "metadata": {
        "id": "u8E_AD4zoC8j"
      }
    },
    {
      "cell_type": "markdown",
      "source": [
        "# ¿Como superar eso?\n",
        "\n",
        "<center> <img src='https://github.com/MaxMitre/Teoria_Estadistica/blob/main/semana1/img/muestras.jpg?raw=true' width=600> </center>"
      ],
      "metadata": {
        "id": "iBdd0M1tozgl"
      }
    },
    {
      "cell_type": "markdown",
      "source": [
        "# Cubriendo $ A=[0,1]^{p}$"
      ],
      "metadata": {
        "id": "LNPABwY1spDG"
      }
    },
    {
      "cell_type": "markdown",
      "source": [
        "Utilizaremos esferas unitarias para cubrir el espacio $A$.\n",
        "\n",
        "Recordemos que el volumen de una espera de dimensión $p$ se calcula como:\n",
        "\n",
        "$V_p(r) = r^p \\dfrac{\\pi^{p/2}}{\\Gamma(p/2 + 1)}$"
      ],
      "metadata": {
        "id": "HpM-SA6ks23h"
      }
    },
    {
      "cell_type": "code",
      "source": [
        "values_p = [i for i in range(0,101)]\n",
        "\n",
        "vol_p = [(1**p)*(np.pi**(p/2)/(math.gamma(p/2 + 1))) for p in values_p]"
      ],
      "metadata": {
        "id": "_rbBxTNLs2Qr"
      },
      "execution_count": null,
      "outputs": []
    },
    {
      "cell_type": "markdown",
      "source": [
        "¿Se entiende la linea anterior?"
      ],
      "metadata": {
        "id": "7bL6t3Mcv3f5"
      }
    },
    {
      "cell_type": "code",
      "source": [
        "plt.scatter(values_p, vol_p)\n",
        "\n",
        "plt.title('Volumen dada la dimensión')"
      ],
      "metadata": {
        "colab": {
          "base_uri": "https://localhost:8080/",
          "height": 298
        },
        "id": "6n72vmOGvhUF",
        "outputId": "6fc26039-52f9-44b0-f5bc-697c0a8cca07"
      },
      "execution_count": null,
      "outputs": [
        {
          "output_type": "execute_result",
          "data": {
            "text/plain": [
              "Text(0.5, 1.0, 'Volumen dada la dimensión')"
            ]
          },
          "metadata": {},
          "execution_count": 6
        },
        {
          "output_type": "display_data",
          "data": {
            "text/plain": [
              "<Figure size 432x288 with 1 Axes>"
            ],
            "image/png": "[encoded data removed]"
          },
          "metadata": {
            "needs_background": "light"
          }
        }
      ]
    },
    {
      "cell_type": "code",
      "source": [
        "plt.plot(values_p, vol_p)\n",
        "\n",
        "plt.title('Volumen dada la dimensión')"
      ],
      "metadata": {
        "colab": {
          "base_uri": "https://localhost:8080/",
          "height": 298
        },
        "id": "3B44RQXAvmg2",
        "outputId": "4a0c4112-5078-4f4f-b279-e16168de0282"
      },
      "execution_count": null,
      "outputs": [
        {
          "output_type": "execute_result",
          "data": {
            "text/plain": [
              "Text(0.5, 1.0, 'Volumen dada la dimensión')"
            ]
          },
          "metadata": {},
          "execution_count": 7
        },
        {
          "output_type": "display_data",
          "data": {
            "text/plain": [
              "<Figure size 432x288 with 1 Axes>"
            ],
            "image/png": "[encoded data removed]"
          },
          "metadata": {
            "needs_background": "light"
          }
        }
      ]
    },
    {
      "cell_type": "markdown",
      "source": [
        "¿Cuantas esferas unitarias (de dimensión $p$) se necesitan para cubrir $A$?"
      ],
      "metadata": {
        "id": "_mRhjP7ds10o"
      }
    },
    {
      "cell_type": "markdown",
      "source": [
        "Una cantidad $n$, donde\n",
        "\n",
        "$ n\\geqslant \\dfrac{1}{V_p(1)} = \\dfrac{\\Gamma(p/2 + 1)}{\\pi^{p/2}} $"
      ],
      "metadata": {
        "id": "PdnwGaiEwJ_K"
      }
    },
    {
      "cell_type": "code",
      "source": [
        "cant_p1 = math.gamma(1.5)/(np.pi**0.5)\n",
        "cant_p1"
      ],
      "metadata": {
        "colab": {
          "base_uri": "https://localhost:8080/"
        },
        "id": "6UIp-wu9w1UZ",
        "outputId": "eabcf8af-4388-463c-80ca-6658b5f6e9ec"
      },
      "execution_count": null,
      "outputs": [
        {
          "output_type": "execute_result",
          "data": {
            "text/plain": [
              "0.5000000000000001"
            ]
          },
          "metadata": {},
          "execution_count": 8
        }
      ]
    },
    {
      "cell_type": "code",
      "source": [
        "cant_p10 = math.gamma(11)/(np.pi**10)\n",
        "cant_p10"
      ],
      "metadata": {
        "colab": {
          "base_uri": "https://localhost:8080/"
        },
        "id": "1LOnCuuew1Yk",
        "outputId": "394dbc5f-ac82-468f-9d47-d3cbb9263407"
      },
      "execution_count": null,
      "outputs": [
        {
          "output_type": "execute_result",
          "data": {
            "text/plain": [
              "38.74933965843515"
            ]
          },
          "metadata": {},
          "execution_count": 9
        }
      ]
    },
    {
      "cell_type": "code",
      "source": [
        "cant_p100 = math.gamma(51)/(np.pi**50)\n",
        "cant_p100"
      ],
      "metadata": {
        "colab": {
          "base_uri": "https://localhost:8080/"
        },
        "id": "b_0wkNfgv0V1",
        "outputId": "47b9bc71-77ed-41da-e527-ec1b0f9d94e5"
      },
      "execution_count": null,
      "outputs": [
        {
          "output_type": "execute_result",
          "data": {
            "text/plain": [
              "4.2226125853234993e+39"
            ]
          },
          "metadata": {},
          "execution_count": 10
        }
      ]
    },
    {
      "cell_type": "markdown",
      "source": [
        "Para algunas dimensiones, podemos visualizar el número de esferas necesarias"
      ],
      "metadata": {
        "id": "zX4QxUDV_qyR"
      }
    },
    {
      "cell_type": "code",
      "source": [
        "# Cambiando el rango podemos observar para diferentes casos, recomendados p=20, p=10, p=15\n",
        "values_p = [i for i in range(0,20)]\n",
        "\n",
        "number_sph = [ math.gamma(p/2 + 1)/(np.pi**(p/2)) for p in values_p]"
      ],
      "metadata": {
        "id": "wZatW90U_wNQ"
      },
      "execution_count": null,
      "outputs": []
    },
    {
      "cell_type": "code",
      "source": [
        "plt.plot(values_p, number_sph)"
      ],
      "metadata": {
        "colab": {
          "base_uri": "https://localhost:8080/",
          "height": 282
        },
        "id": "tVpQFPTHAAbQ",
        "outputId": "e794c358-2079-4758-b78a-b9fa5f3518b8"
      },
      "execution_count": null,
      "outputs": [
        {
          "output_type": "execute_result",
          "data": {
            "text/plain": [
              "[<matplotlib.lines.Line2D at 0x7f49688ca250>]"
            ]
          },
          "metadata": {},
          "execution_count": 14
        },
        {
          "output_type": "display_data",
          "data": {
            "text/plain": [
              "<Figure size 432x288 with 1 Axes>"
            ],
            "image/png": "[encoded data removed]"
          },
          "metadata": {
            "needs_background": "light"
          }
        }
      ]
    },
    {
      "cell_type": "markdown",
      "source": [
        "# Volumen de cascarones"
      ],
      "metadata": {
        "id": "qBc7v05t82wV"
      }
    },
    {
      "cell_type": "markdown",
      "source": [
        "La probabilidad de que una variable aleatoria uniforme pertenezca al espacio entre el hipercubo $[0, 0.9]^p$ y el $[0, 1]^p$ es\n",
        "\n",
        "$$ 1 - 0.9^p \\longrightarrow 1 \\text{  cuando } p→ ∞$$ "
      ],
      "metadata": {
        "id": "fObwOvPZ9PvR"
      }
    },
    {
      "cell_type": "code",
      "source": [
        "values_p = [i for i in range(0,101)]\n",
        "\n",
        "probability = [1 - 0.9**p for p in values_p]"
      ],
      "metadata": {
        "id": "7c5BoVuM9On3"
      },
      "execution_count": null,
      "outputs": []
    },
    {
      "cell_type": "code",
      "source": [
        "plt.plot(values_p, probability)\n",
        "plt.xlabel('Dimensión')\n",
        "plt.ylabel('Probabilidad')"
      ],
      "metadata": {
        "colab": {
          "base_uri": "https://localhost:8080/",
          "height": 296
        },
        "id": "rMgCZnyv-Vec",
        "outputId": "45d61120-9708-4b08-e061-9c0054934f2d"
      },
      "execution_count": null,
      "outputs": [
        {
          "output_type": "execute_result",
          "data": {
            "text/plain": [
              "Text(0, 0.5, 'Probabilidad')"
            ]
          },
          "metadata": {},
          "execution_count": 16
        },
        {
          "output_type": "display_data",
          "data": {
            "text/plain": [
              "<Figure size 432x288 with 1 Axes>"
            ],
            "image/png": "[encoded data removed]"
          },
          "metadata": {
            "needs_background": "light"
          }
        }
      ]
    },
    {
      "cell_type": "markdown",
      "source": [
        "# ¿Como evitar problemas con las dimensiones?\n",
        "\n",
        "- Reducción de dimensión\n",
        "  - PCA\n",
        "  - Reducir datos usando correlación\n",
        "\n",
        "- Regularización\n",
        "  - Parámetros\n",
        "\n",
        "- Restringir el modelo\n"
      ],
      "metadata": {
        "id": "G_8YBcjI-9Fx"
      }
    },
    {
      "cell_type": "markdown",
      "source": [
        "# Referencias\n",
        "\n",
        "https://mathematical-coffees.github.io/slides/mc08-delon.pdf\n",
        "\n",
        "https://juanitorduz.github.io/exploring-the-curse-of-dimensionality-part-i./"
      ],
      "metadata": {
        "id": "gVpNp8Rk_fsh"
      }
    }
  ]
}